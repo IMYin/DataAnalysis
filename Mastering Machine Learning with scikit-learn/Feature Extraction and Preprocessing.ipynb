{
 "cells": [
  {
   "cell_type": "code",
   "execution_count": 1,
   "metadata": {
    "collapsed": false
   },
   "outputs": [
    {
     "name": "stdout",
     "output_type": "stream",
     "text": [
      "[[ 0.  1.  0.]\n",
      " [ 0.  0.  1.]\n",
      " [ 1.  0.  0.]]\n"
     ]
    }
   ],
   "source": [
    "#分类变量通常用独热编码（One-of-K or One-Hot Encoding），通过二进制数来表示每个解释变量的特征。\n",
    "#scikit-learn里有DictVectorizer类可以用来表示分类特征：\n",
    "from sklearn.feature_extraction import DictVectorizer\n",
    "\n",
    "onehot_encoder = DictVectorizer()\n",
    "instances = [{'city': 'New York'},{'city': 'San Francisco'}, {'city': 'Chapel Hill'}]\n",
    "print onehot_encoder.fit_transform(instances).toarray()"
   ]
  },
  {
   "cell_type": "code",
   "execution_count": 3,
   "metadata": {
    "collapsed": false
   },
   "outputs": [
    {
     "name": "stdout",
     "output_type": "stream",
     "text": [
      "Help on built-in function BBANDS in module talib.func:\n",
      "\n",
      "BBANDS(...)\n",
      "    BBANDS(real[, timeperiod=?, nbdevup=?, nbdevdn=?, matype=?])\n",
      "    \n",
      "    Bollinger Bands (Overlap Studies)\n",
      "    \n",
      "    Inputs:\n",
      "        real: (any ndarray)\n",
      "    Parameters:\n",
      "        timeperiod: 5\n",
      "        nbdevup: 2\n",
      "        nbdevdn: 2\n",
      "        matype: 0 (Simple Moving Average)\n",
      "    Outputs:\n",
      "        upperband\n",
      "        middleband\n",
      "        lowerband\n",
      "\n"
     ]
    }
   ],
   "source": [
    "import talib as ta\n",
    "help(ta.BBANDS)"
   ]
  },
  {
   "cell_type": "code",
   "execution_count": null,
   "metadata": {
    "collapsed": true
   },
   "outputs": [],
   "source": []
  }
 ],
 "metadata": {
  "kernelspec": {
   "display_name": "Python [Root]",
   "language": "python",
   "name": "Python [Root]"
  },
  "language_info": {
   "codemirror_mode": {
    "name": "ipython",
    "version": 2
   },
   "file_extension": ".py",
   "mimetype": "text/x-python",
   "name": "python",
   "nbconvert_exporter": "python",
   "pygments_lexer": "ipython2",
   "version": "2.7.12"
  }
 },
 "nbformat": 4,
 "nbformat_minor": 0
}
